{
 "cells": [
  {
   "cell_type": "markdown",
   "metadata": {},
   "source": [
    "<center>\n",
    "    <img src=\"https://cf-courses-data.s3.us.cloud-object-storage.appdomain.cloud/IBMDeveloperSkillsNetwork-DS0105EN-SkillsNetwork/labs/Module2/images/SN_web_lightmode.png\" width=\"300\" alt=\"cognitiveclass.ai logo\"  />\n",
    "</center>\n"
   ]
  },
  {
   "cell_type": "markdown",
   "metadata": {},
   "source": [
    "#### Add your code below following the instructions given in the course\n"
   ]
  },
  {
   "cell_type": "markdown",
   "metadata": {},
   "source": [
    "# My Jupyter Notebook in IBM Watson Studio"
   ]
  },
  {
   "cell_type": "markdown",
   "metadata": {},
   "source": [
    "\n",
    "## <b> Renuka Repakula \n",
    "  Business Analyst"
   ]
  },
  {
   "cell_type": "markdown",
   "metadata": {},
   "source": [
    "*I am interested in data science because i love to work with numbers ,data ,mathematics and creating visualizations.By analyzing data we can provide solutions/answers to the problems and we cam improve performance/results*"
   ]
  },
  {
   "cell_type": "markdown",
   "metadata": {},
   "source": [
    "### Adding Numbers"
   ]
  },
  {
   "cell_type": "code",
   "execution_count": 1,
   "metadata": {},
   "outputs": [
    {
     "name": "stdout",
     "output_type": "stream",
     "text": [
      "4\n"
     ]
    }
   ],
   "source": [
    "A=1\n",
    "B=3\n",
    "C=A+B\n",
    "print(C)"
   ]
  },
  {
   "attachments": {
    "e7afad5a-f074-41c5-bdfe-134398311bd4.jpg": {
     "image/jpeg": "[encoded data removed]"
    }
   },
   "cell_type": "markdown",
   "metadata": {},
   "source": [
    "Bulleted List :\n",
    "\n",
    "- This is Bullet\n",
    "- This is Bullet\n",
    "- This is Bullet\n",
    "    - This is Sub Bullet \n",
    "    * This is Sub Bullet\n",
    "    \n",
    "Numbering List :\n",
    "\n",
    "1. Line Number One\n",
    "2. Line Number Two\n",
    "2. Line Number Three\n",
    "    \n",
    "        A. Subline Number One\n",
    "        B. Subline Number Two\n",
    "        \n",
    "        \n",
    "        \n",
    "Image:\n",
    "\n",
    "![Dowmloaded image.jpg](attachment:e7afad5a-f074-41c5-bdfe-134398311bd4.jpg)\n",
    "\n",
    "\n",
    "Code highlighting :\n",
    "\n",
    "<font color=green> Font color is green</font>\n",
    "\n",
    "<font color=red> Font color is red</font>\n",
    "\n",
    "<font color=blue> Font color is blue</font>\n",
    "\n",
    "\n",
    "hyperlink :\n",
    "\n",
    "use this link to open Google\n",
    "\n",
    "[click here to google](https://www.google.com/?gws_rd=ssl)\n",
    "\n",
    "\n",
    "Table :\n",
    "\n",
    "|Employee Name |Employee Code |Department |Location |\n",
    "|-----|:--------|:----------:|:------:|\n",
    "|Renuka | 12345 |Finance |Hyderabad|\n",
    "|Naresh | 12132 | Sales  |Bangalore|\n",
    "|Vamsi Krishna | 12321 |Finance |Pune |\n",
    "\n",
    "\n"
   ]
  },
  {
   "cell_type": "code",
   "execution_count": null,
   "metadata": {},
   "outputs": [],
   "source": []
  }
 ],
 "metadata": {
  "kernelspec": {
   "display_name": "Python",
   "language": "python",
   "name": "conda-env-python-py"
  },
  "language_info": {
   "codemirror_mode": {
    "name": "ipython",
    "version": 3
   },
   "file_extension": ".py",
   "mimetype": "text/x-python",
   "name": "python",
   "nbconvert_exporter": "python",
   "pygments_lexer": "ipython3",
   "version": "3.7.12"
  }
 },
 "nbformat": 4,
 "nbformat_minor": 4
}
